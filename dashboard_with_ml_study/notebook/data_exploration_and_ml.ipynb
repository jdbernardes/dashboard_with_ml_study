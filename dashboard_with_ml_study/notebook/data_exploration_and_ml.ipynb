{
 "cells": [
  {
   "cell_type": "markdown",
   "metadata": {},
   "source": [
    "## Download Dataset\n",
    "\n",
    "To easily download the dataset, follow the instructions on the article [How to Import Kaggle Datasets into Jupyter Notebook](https://saturncloud.io/blog/how-to-import-kaggle-datasets-into-jupyter-notebook/)\n",
    "\n",
    "1. Example of command to download: !kaggle datasets download -d mohsenzergani/bangladeshi-university-students-mental-health\n",
    "\n",
    "2. Example of command to unzip: !unzip bangladeshi-university-students-mental-health.zip"
   ]
  },
  {
   "cell_type": "code",
   "execution_count": 4,
   "metadata": {},
   "outputs": [
    {
     "name": "stdout",
     "output_type": "stream",
     "text": [
      "Dataset URL: https://www.kaggle.com/datasets/mohsenzergani/bangladeshi-university-students-mental-health\n",
      "License(s): MIT\n",
      "Downloading bangladeshi-university-students-mental-health.zip to c:\\Users\\julio\\OneDrive\\Área de Trabalho\\Projects\\dashboard_with_ml_study\\dashboard_with_ml_study\\notebook\n",
      "\n"
     ]
    },
    {
     "name": "stderr",
     "output_type": "stream",
     "text": [
      "\n",
      "  0%|          | 0.00/48.2k [00:00<?, ?B/s]\n",
      "100%|██████████| 48.2k/48.2k [00:00<00:00, 513kB/s]\n"
     ]
    }
   ],
   "source": [
    "!kaggle datasets download -d mohsenzergani/bangladeshi-university-students-mental-health"
   ]
  },
  {
   "cell_type": "code",
   "execution_count": 5,
   "metadata": {},
   "outputs": [
    {
     "name": "stdout",
     "output_type": "stream",
     "text": [
      "Archive:  bangladeshi-university-students-mental-health.zip\n",
      "  inflating: Raw Data.csv            \n"
     ]
    }
   ],
   "source": [
    "!unzip bangladeshi-university-students-mental-health"
   ]
  },
  {
   "cell_type": "code",
   "execution_count": 8,
   "metadata": {},
   "outputs": [],
   "source": [
    "import pandas as pd\n",
    "df = pd.read_csv(\"./Raw Data.csv\")\n",
    "df.head()"
   ]
  },
  {
   "cell_type": "code",
   "execution_count": null,
   "metadata": {},
   "outputs": [],
   "source": []
  }
 ],
 "metadata": {
  "kernelspec": {
   "display_name": ".venv",
   "language": "python",
   "name": "python3"
  },
  "language_info": {
   "codemirror_mode": {
    "name": "ipython",
    "version": 3
   },
   "file_extension": ".py",
   "mimetype": "text/x-python",
   "name": "python",
   "nbconvert_exporter": "python",
   "pygments_lexer": "ipython3",
   "version": "3.12.3"
  }
 },
 "nbformat": 4,
 "nbformat_minor": 2
}
